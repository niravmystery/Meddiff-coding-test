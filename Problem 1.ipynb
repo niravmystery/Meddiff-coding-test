{
 "cells": [
  {
   "cell_type": "markdown",
   "metadata": {},
   "source": [
    "Implement a group_by_owners function that:\n",
    "\n",
    "        · Accepts a dictionary containing the file owner name for each file name.\n",
    "        · Returns a dictionary containing a list of file names for each owner name, in any order.\n",
    "\n",
    "For example, for dictionary {'Input.txt': 'Randy', 'Code.py': 'Stan', 'Output.txt': 'Randy'} the group_by_owners function should return {'Randy': ['Input.txt', 'Output.txt'], 'Stan': ['Code.py']}."
   ]
  },
  {
   "cell_type": "code",
   "execution_count": 2,
   "metadata": {},
   "outputs": [
    {
     "name": "stdout",
     "output_type": "stream",
     "text": [
      "defaultdict(<class 'list'>, {'Randy': ['Input.txt', 'Output.txt'], 'Stan': ['Code.py']})\n"
     ]
    }
   ],
   "source": [
    "from collections import defaultdict\n",
    "\n",
    "def group_by_owners(files):\n",
    "    owners = defaultdict(list)\n",
    "    for file, owner in files.items():\n",
    "        owners[owner].append(file)\n",
    "    return owners\n",
    "\n",
    "\n",
    "files = {\n",
    "    'Input.txt' : 'Randy',\n",
    "    'Output.txt' : 'Randy',\n",
    "    'Code.py' : 'Stan'\n",
    "}\n",
    "\n",
    "\n",
    "print(group_by_owners(files))"
   ]
  },
  {
   "cell_type": "code",
   "execution_count": null,
   "metadata": {},
   "outputs": [],
   "source": []
  }
 ],
 "metadata": {
  "kernelspec": {
   "display_name": "Python 3",
   "language": "python",
   "name": "python3"
  },
  "language_info": {
   "codemirror_mode": {
    "name": "ipython",
    "version": 3
   },
   "file_extension": ".py",
   "mimetype": "text/x-python",
   "name": "python",
   "nbconvert_exporter": "python",
   "pygments_lexer": "ipython3",
   "version": "3.7.6"
  }
 },
 "nbformat": 4,
 "nbformat_minor": 4
}
