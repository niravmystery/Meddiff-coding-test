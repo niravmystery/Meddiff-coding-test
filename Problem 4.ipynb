{
 "cells": [
  {
   "cell_type": "markdown",
   "metadata": {},
   "source": [
    "Write a function that provides a change directory (cd) function for an abstract file system.\n",
    "\n",
    " \n",
    "\n",
    "Notes:\n",
    "\n",
    "Root path is '/'.\n",
    "\n",
    "Path separator is '/'.\n",
    "\n",
    "Parent directory is addressable as '..'.\n",
    "\n",
    "Directory names consist only of English alphabet letters (A-Z and a-z).\n",
    "\n",
    "The function should support both relative and absolute paths.\n",
    "\n",
    "The function will not be passed any invalid paths.\n",
    "\n",
    "Do not use built-in path-related functions.\n",
    "\n",
    " \n",
    "\n",
    "For example:\n",
    "\n",
    "path = Path('/a/b/c/d')\n",
    "\n",
    "path.cd('../x')\n",
    "\n",
    "print(path.current_path)\n",
    "\n",
    " \n",
    "\n",
    "Output:\n",
    "\n",
    "Should display '/a/b/c/x'.\n",
    "\n"
   ]
  },
  {
   "cell_type": "code",
   "execution_count": 15,
   "metadata": {},
   "outputs": [
    {
     "name": "stdout",
     "output_type": "stream",
     "text": [
      "/a/b/c/x\n"
     ]
    }
   ],
   "source": [
    "class Path:\n",
    "    def __init__(self, path):\n",
    "        self.current_path = path\n",
    "    \n",
    "    def cd(self, new_path):\n",
    "        i = 0\n",
    "        newPathList = new_path.split('/')\n",
    "        pathLength = len(newPathList)\n",
    "        pathList = self.current_path.split('/')\n",
    "        \n",
    "        #print(newPathList)\n",
    "    \n",
    "        if newPathList[0]=='':\n",
    "            \n",
    "            del pathList[:]\n",
    "            pathList.append('/'+newPathList[1])\n",
    "            i=i+2\n",
    "            \n",
    "        while(i<pathLength):\n",
    "            j=len(pathList)-1\n",
    "            \n",
    "            #print(i)\n",
    "            #print(pathLength)\n",
    "            #print(newPathList[i])\n",
    "            \n",
    "            if newPathList[i]=='..':\n",
    "                #move to parent derectory\n",
    "                pathList.pop(j)\n",
    "            else:\n",
    "                pathList.append(newPathList[i])\n",
    "            i=i+1\n",
    "        self.current_path='/'.join(pathList)\n",
    "        \n",
    "        pass\n",
    "    \n",
    "path = Path('/a/b/c/d')\n",
    "path.cd('../x')\n",
    "print(path.current_path)"
   ]
  },
  {
   "cell_type": "code",
   "execution_count": null,
   "metadata": {},
   "outputs": [],
   "source": []
  }
 ],
 "metadata": {
  "kernelspec": {
   "display_name": "Python 3",
   "language": "python",
   "name": "python3"
  },
  "language_info": {
   "codemirror_mode": {
    "name": "ipython",
    "version": 3
   },
   "file_extension": ".py",
   "mimetype": "text/x-python",
   "name": "python",
   "nbconvert_exporter": "python",
   "pygments_lexer": "ipython3",
   "version": "3.7.6"
  }
 },
 "nbformat": 4,
 "nbformat_minor": 4
}
