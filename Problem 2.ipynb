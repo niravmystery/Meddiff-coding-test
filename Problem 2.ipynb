{
 "cells": [
  {
   "cell_type": "markdown",
   "metadata": {},
   "source": [
    "Write a function that checks if a given word is a palindrome. Character case should be ignored."
   ]
  },
  {
   "cell_type": "code",
   "execution_count": 5,
   "metadata": {},
   "outputs": [
    {
     "name": "stdout",
     "output_type": "stream",
     "text": [
      "Yes\n"
     ]
    }
   ],
   "source": [
    "# function to check if a given word is pelindrome or not.\n",
    "\n",
    "def isPalindrome(w):\n",
    "    \n",
    "    #useing predefined function to reverse string\n",
    "    w = w.lower()\n",
    "    rev = ''.join(reversed(w))\n",
    "    \n",
    "    #checking if original and reverse string are equal or not\n",
    "    if (w == rev):\n",
    "        return True\n",
    "    return False\n",
    "\n",
    "#main function\n",
    "\n",
    "ans = isPalindrome('NayAn')\n",
    "\n",
    "if (ans):\n",
    "    print('Yes')\n",
    "else:\n",
    "    print('No')"
   ]
  },
  {
   "cell_type": "code",
   "execution_count": null,
   "metadata": {},
   "outputs": [],
   "source": []
  }
 ],
 "metadata": {
  "kernelspec": {
   "display_name": "Python 3",
   "language": "python",
   "name": "python3"
  },
  "language_info": {
   "codemirror_mode": {
    "name": "ipython",
    "version": 3
   },
   "file_extension": ".py",
   "mimetype": "text/x-python",
   "name": "python",
   "nbconvert_exporter": "python",
   "pygments_lexer": "ipython3",
   "version": "3.7.6"
  }
 },
 "nbformat": 4,
 "nbformat_minor": 4
}
